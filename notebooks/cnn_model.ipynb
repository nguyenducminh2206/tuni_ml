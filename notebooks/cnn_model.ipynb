{
 "cells": [
  {
   "cell_type": "code",
   "execution_count": 1,
   "id": "5729f87c",
   "metadata": {},
   "outputs": [],
   "source": [
    "import numpy as np\n",
    "import sys\n",
    "import os\n",
    "import torch\n",
    "from sklearn.model_selection import train_test_split\n",
    "from sklearn.preprocessing import StandardScaler\n",
    "from torch.utils.data import TensorDataset, DataLoader\n",
    "sys.path.append(os.path.abspath('C:/Users/vpming/tuni_ml/src'))\n",
    "from extract_data import build_cellwise_df\n",
    "from extract_cell_timetrace import extract_cell_timetrace\n",
    "import torch.nn as nn"
   ]
  },
  {
   "cell_type": "code",
   "execution_count": 3,
   "id": "50eb89aa",
   "metadata": {},
   "outputs": [],
   "source": [
    "data_path = 'C:/Users/vpming/tuni_ml/data'\n",
    "df = build_cellwise_df(data_path)"
   ]
  },
  {
   "cell_type": "code",
   "execution_count": 4,
   "id": "cd74a056",
   "metadata": {},
   "outputs": [
    {
     "name": "stdout",
     "output_type": "stream",
     "text": [
      "(2500, 1001)\n",
      "[[3]\n",
      " [3]\n",
      " [2]\n",
      " ...\n",
      " [2]\n",
      " [2]\n",
      " [3]]\n"
     ]
    }
   ],
   "source": [
    "x = np.stack(df['time_trace'])\n",
    "print(x.shape)\n",
    "y = df['dis_to_target'].values\n",
    "print(y.reshape(-1,1))\n",
    "\n",
    "x_train, x_test, y_train, y_test = train_test_split(x, y, test_size=0.2, random_state=42)\n",
    "\n",
    "x_scaler = StandardScaler()\n",
    "x_train_s = x_scaler.fit_transform(x_train)\n",
    "x_test_s = x_scaler.transform(x_test)\n",
    "\n",
    "y_scaler = StandardScaler()\n",
    "y_train_s = y_scaler.fit_transform(y_train.reshape(-1,1)).ravel()\n",
    "y_test_s = y_scaler.transform(y_test.reshape(-1,1)).ravel()"
   ]
  },
  {
   "cell_type": "code",
   "execution_count": 5,
   "id": "77035a94",
   "metadata": {},
   "outputs": [],
   "source": [
    "train_ds = TensorDataset(torch.tensor(x_train_s, dtype=torch.float32),\n",
    "                         torch.tensor(y_train_s, dtype=torch.float32))\n",
    "\n",
    "test_ds = TensorDataset(torch.tensor(x_test_s, dtype=torch.float32),\n",
    "                        torch.tensor(y_test_s, dtype=torch.float32))\n",
    "\n",
    "train_loader = DataLoader(train_ds, batch_size=64, shuffle=True)\n",
    "test_loader = DataLoader(test_ds, batch_size=64)"
   ]
  },
  {
   "cell_type": "code",
   "execution_count": 6,
   "id": "496c0aae",
   "metadata": {},
   "outputs": [],
   "source": [
    "class CNNRegressor(nn.Module):\n",
    "    def __init__(self, n_timepoints):\n",
    "        super().__init__()\n",
    "        self.conv = nn.Sequential(\n",
    "            nn.Conv1d(1, 16, 7, padding=3),\n",
    "            nn.ReLU(),\n",
    "            nn.MaxPool1d(2),\n",
    "            nn.Conv1d(16, 32, 7, padding=3),\n",
    "            nn.ReLU(),\n",
    "            nn.MaxPool1d(2),\n",
    "            nn.Flatten()\n",
    "        )\n",
    "        self.fc = nn.Sequential(\n",
    "            nn.Linear(32 * (n_timepoints // 4), 64),\n",
    "            nn.ReLU(),\n",
    "            nn.Linear(64, 1)\n",
    "        )\n",
    "    def forward(self, x):\n",
    "        x = x.unsqueeze(1)  # (batch, 1, timepoints)\n",
    "        x = self.conv(x)\n",
    "        return self.fc(x).squeeze(-1)"
   ]
  },
  {
   "cell_type": "code",
   "execution_count": 7,
   "id": "c73d91a0",
   "metadata": {},
   "outputs": [
    {
     "name": "stdout",
     "output_type": "stream",
     "text": [
      "Epoch  1: Train loss 0.7582\n",
      "Epoch  2: Train loss 0.5816\n",
      "Epoch  3: Train loss 0.5102\n",
      "Epoch  4: Train loss 0.4446\n",
      "Epoch  5: Train loss 0.4342\n",
      "Epoch  6: Train loss 0.3576\n",
      "Epoch  7: Train loss 0.3198\n",
      "Epoch  8: Train loss 0.2859\n",
      "Epoch  9: Train loss 0.2427\n",
      "Epoch 10: Train loss 0.1901\n",
      "Epoch 11: Train loss 0.1701\n",
      "Epoch 12: Train loss 0.1395\n",
      "Epoch 13: Train loss 0.1055\n",
      "Epoch 14: Train loss 0.0863\n",
      "Epoch 15: Train loss 0.0760\n",
      "Epoch 16: Train loss 0.0592\n",
      "Epoch 17: Train loss 0.0477\n",
      "Epoch 18: Train loss 0.0409\n",
      "Epoch 19: Train loss 0.0393\n",
      "Epoch 20: Train loss 0.0357\n"
     ]
    }
   ],
   "source": [
    "device = torch.device('cuda' if torch.cuda.is_available() else 'cpu')\n",
    "model = CNNRegressor(x_train.shape[1]).to(device)\n",
    "optimizer = torch.optim.Adam(model.parameters(), lr=1e-3)\n",
    "criterion = nn.MSELoss()\n",
    "\n",
    "for epoch in range(20):\n",
    "    model.train()\n",
    "    running_loss = 0.0\n",
    "    for xb, yb in train_loader:\n",
    "        xb, yb = xb.to(device), yb.to(device)\n",
    "        pred = model(xb)\n",
    "        loss = criterion(pred, yb)\n",
    "        optimizer.zero_grad()\n",
    "        loss.backward()\n",
    "        optimizer.step()\n",
    "        running_loss += loss.item()\n",
    "    print(f\"Epoch {epoch+1:2d}: Train loss {running_loss/len(train_loader):.4f}\")\n",
    "\n",
    "# Save the model and scalers\n",
    "torch.save({\n",
    "    'model_state_dict': model.state_dict(),\n",
    "    'scaler_X': x_scaler,\n",
    "    'scaler_y': y_scaler\n",
    "}, 'C:/Users/vpming/tuni_ml\\src\\model/cnn_dtt.pt')\n"
   ]
  },
  {
   "cell_type": "code",
   "execution_count": 20,
   "id": "b8428ae4",
   "metadata": {},
   "outputs": [
    {
     "name": "stdout",
     "output_type": "stream",
     "text": [
      "[1.00822172 1.01912433 1.03525191 ... 0.99637745 0.99906408 1.00398041]\n",
      "Predicted distance to target: 2.554\n"
     ]
    }
   ],
   "source": [
    "time_trace_cell_3 = extract_cell_timetrace('C:/Users/vpming/tuni_ml/data/stim_0.5_beta_0.04_noise_0.01_kcross_0.0050/sim_data__stimMag_0.50_beta_0.40_noise_0.010_kcross_0.0050_nSamples_1000_1.h5', 24)\n",
    "print(time_trace_cell_3)\n",
    "\n",
    "timetrace_scaled = x_scaler.transform(time_trace_cell_3.reshape(1, -1))\n",
    "with torch.no_grad():\n",
    "    pred_scaled = model(torch.tensor(timetrace_scaled, dtype=torch.float32)).numpy()\n",
    "\n",
    "# Inverse transform to original units\n",
    "pred_distance = y_scaler.inverse_transform(pred_scaled.reshape(-1, 1)).ravel()[0]\n",
    "print(f\"Predicted distance to target: {pred_distance:.3f}\")"
   ]
  }
 ],
 "metadata": {
  "kernelspec": {
   "display_name": ".venv",
   "language": "python",
   "name": "python3"
  },
  "language_info": {
   "codemirror_mode": {
    "name": "ipython",
    "version": 3
   },
   "file_extension": ".py",
   "mimetype": "text/x-python",
   "name": "python",
   "nbconvert_exporter": "python",
   "pygments_lexer": "ipython3",
   "version": "3.11.9"
  }
 },
 "nbformat": 4,
 "nbformat_minor": 5
}
