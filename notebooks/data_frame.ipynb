{
 "cells": [
  {
   "cell_type": "code",
   "execution_count": null,
   "id": "108e47de",
   "metadata": {},
   "outputs": [
    {
     "name": "stdout",
     "output_type": "stream",
     "text": [
      "c:\\Users\\vpming\\tuni_ml\\notebooks\n"
     ]
    }
   ],
   "source": [
    "import sys\n",
    "import os\n",
    "sys.path.append(os.path.abspath('C:/Users/vpming/tuni_ml/src'))\n",
    "print(os.getcwd())"
   ]
  },
  {
   "cell_type": "code",
   "execution_count": 5,
   "id": "492da01a",
   "metadata": {},
   "outputs": [
    {
     "name": "stdout",
     "output_type": "stream",
     "text": [
      "                  simulation_id sample_key  cell_id  \\\n",
      "0           20250620_023901_1.0          1        0   \n",
      "1           20250620_023901_1.0          1        1   \n",
      "2           20250620_023901_1.0          1        2   \n",
      "3           20250620_023901_1.0          1        3   \n",
      "4           20250620_023901_1.0          1        4   \n",
      "...                         ...        ...      ...   \n",
      "4999995  20250603_182938_1000.0        999       20   \n",
      "4999996  20250603_182938_1000.0        999       21   \n",
      "4999997  20250603_182938_1000.0        999       22   \n",
      "4999998  20250603_182938_1000.0        999       23   \n",
      "4999999  20250603_182938_1000.0        999       24   \n",
      "\n",
      "                                                time_trace  dis_to_target  \\\n",
      "0        [1.0082217228165373, 1.0169585641202599, 1.004...              3   \n",
      "1        [1.0082217228165373, 0.9879619651020654, 0.993...              3   \n",
      "2        [1.0082217228165373, 1.0078752241365556, 1.014...              2   \n",
      "3        [1.0082217228165373, 0.98798132379288, 1.00932...              3   \n",
      "4        [1.0082217228165373, 1.0271320448991659, 1.034...              3   \n",
      "...                                                    ...            ...   \n",
      "4999995  [1.0082217228165373, 1.018780336265672, 0.9470...              3   \n",
      "4999996  [1.0082217228165373, 0.9864063958546945, 0.988...              2   \n",
      "4999997  [1.0082217228165373, 1.019321274432501, 1.0422...              2   \n",
      "4999998  [1.0082217228165373, 0.9892364234023316, 0.984...              2   \n",
      "4999999  [1.0082217228165373, 0.9518628370804049, 0.949...              3   \n",
      "\n",
      "                                           simulation_file  \n",
      "0        sim_data__stimMag_0.10_beta_0.40_noise_0.010_k...  \n",
      "1        sim_data__stimMag_0.10_beta_0.40_noise_0.010_k...  \n",
      "2        sim_data__stimMag_0.10_beta_0.40_noise_0.010_k...  \n",
      "3        sim_data__stimMag_0.10_beta_0.40_noise_0.010_k...  \n",
      "4        sim_data__stimMag_0.10_beta_0.40_noise_0.010_k...  \n",
      "...                                                    ...  \n",
      "4999995  sim_data__stimMag_1.00_beta_0.40_noise_0.050_k...  \n",
      "4999996  sim_data__stimMag_1.00_beta_0.40_noise_0.050_k...  \n",
      "4999997  sim_data__stimMag_1.00_beta_0.40_noise_0.050_k...  \n",
      "4999998  sim_data__stimMag_1.00_beta_0.40_noise_0.050_k...  \n",
      "4999999  sim_data__stimMag_1.00_beta_0.40_noise_0.050_k...  \n",
      "\n",
      "[5000000 rows x 6 columns]\n"
     ]
    }
   ],
   "source": [
    "from extract_data import build_cellwise_all_df\n",
    "\n",
    "data_path = 'C:/Users/vpming/tuni_ml/data'\n",
    "df = build_cellwise_all_df(data_path)\n",
    "print(df)"
   ]
  },
  {
   "cell_type": "code",
   "execution_count": 8,
   "id": "a5514331",
   "metadata": {},
   "outputs": [
    {
     "name": "stdout",
     "output_type": "stream",
     "text": [
      "minimum samples: 200000\n"
     ]
    },
    {
     "name": "stderr",
     "output_type": "stream",
     "text": [
      "C:\\Users\\vpming\\AppData\\Local\\Temp\\ipykernel_20364\\3401413893.py:8: DeprecationWarning: DataFrameGroupBy.apply operated on the grouping columns. This behavior is deprecated, and in a future version of pandas the grouping columns will be excluded from the operation. Either pass `include_groups=False` to exclude the groupings or explicitly select the grouping columns after groupby to silence this warning.\n",
      "  .apply(lambda x: x.sample(n=n_samples, random_state=42))\n"
     ]
    },
    {
     "name": "stdout",
     "output_type": "stream",
     "text": [
      "dis_to_target\n",
      "0    200000\n",
      "1    200000\n",
      "2    200000\n",
      "3    200000\n",
      "Name: count, dtype: int64\n"
     ]
    }
   ],
   "source": [
    "min_count = df['dis_to_target'].value_counts().min()\n",
    "print(\"minimum samples:\", min_count)\n",
    "\n",
    "n_samples = min_count\n",
    "\n",
    "balanced_df = (\n",
    "    df.groupby('dis_to_target', group_keys=False)\n",
    "    .apply(lambda x: x.sample(n=n_samples, random_state=42))\n",
    "    .reset_index(drop=True)\n",
    ")\n",
    "\n",
    "print(balanced_df['dis_to_target'].value_counts())"
   ]
  }
 ],
 "metadata": {
  "kernelspec": {
   "display_name": ".venv",
   "language": "python",
   "name": "python3"
  },
  "language_info": {
   "codemirror_mode": {
    "name": "ipython",
    "version": 3
   },
   "file_extension": ".py",
   "mimetype": "text/x-python",
   "name": "python",
   "nbconvert_exporter": "python",
   "pygments_lexer": "ipython3",
   "version": "3.11.9"
  }
 },
 "nbformat": 4,
 "nbformat_minor": 5
}
