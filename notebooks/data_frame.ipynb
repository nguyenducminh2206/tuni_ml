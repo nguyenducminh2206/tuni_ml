{
 "cells": [
  {
   "cell_type": "code",
   "execution_count": 1,
   "id": "108e47de",
   "metadata": {},
   "outputs": [
    {
     "name": "stdout",
     "output_type": "stream",
     "text": [
      "c:\\Users\\vpming\\tuni_ml\\notebooks\n"
     ]
    }
   ],
   "source": [
    "import sys\n",
    "import os\n",
    "sys.path.append(os.path.abspath('C:/Users/vpming/tuni_ml/src'))\n",
    "print(os.getcwd())"
   ]
  },
  {
   "cell_type": "code",
   "execution_count": 2,
   "id": "492da01a",
   "metadata": {},
   "outputs": [
    {
     "name": "stdout",
     "output_type": "stream",
     "text": [
      "            simulation_id  cell_id  \\\n",
      "0     20250618_002637_1.0        0   \n",
      "1     20250618_002637_1.0        1   \n",
      "2     20250618_002637_1.0        2   \n",
      "3     20250618_002637_1.0        3   \n",
      "4     20250618_002637_1.0        4   \n",
      "...                   ...      ...   \n",
      "1745  20250603_182938_1.0       20   \n",
      "1746  20250603_182938_1.0       21   \n",
      "1747  20250603_182938_1.0       22   \n",
      "1748  20250603_182938_1.0       23   \n",
      "1749  20250603_182938_1.0       24   \n",
      "\n",
      "                                             time_trace  dis_to_target  \\\n",
      "0     [1.0082217228165373, 1.074873808790974, 1.0995...              3   \n",
      "1     [1.0082217228165373, 1.0901654368950555, 1.074...              3   \n",
      "2     [1.0082217228165373, 1.0259581063835757, 1.081...              2   \n",
      "3     [1.0082217228165373, 0.9479772459796122, 0.926...              3   \n",
      "4     [1.0082217228165373, 1.0899964430680467, 1.104...              3   \n",
      "...                                                 ...            ...   \n",
      "1745  [1.0082217228165373, 0.9435282386882603, 0.896...              3   \n",
      "1746  [1.0082217228165373, 1.0291337464043089, 1.012...              2   \n",
      "1747  [1.0082217228165373, 1.0346579572623933, 0.942...              2   \n",
      "1748  [1.0082217228165373, 1.048303272102278, 1.0013...              2   \n",
      "1749  [1.0082217228165373, 0.9632740699203722, 1.022...              3   \n",
      "\n",
      "                                        simulation_file  \n",
      "0     sim_data__stimMag_0.50_beta_0.40_noise_0.040_k...  \n",
      "1     sim_data__stimMag_0.50_beta_0.40_noise_0.040_k...  \n",
      "2     sim_data__stimMag_0.50_beta_0.40_noise_0.040_k...  \n",
      "3     sim_data__stimMag_0.50_beta_0.40_noise_0.040_k...  \n",
      "4     sim_data__stimMag_0.50_beta_0.40_noise_0.040_k...  \n",
      "...                                                 ...  \n",
      "1745  sim_data__stimMag_1.00_beta_0.40_noise_0.050_k...  \n",
      "1746  sim_data__stimMag_1.00_beta_0.40_noise_0.050_k...  \n",
      "1747  sim_data__stimMag_1.00_beta_0.40_noise_0.050_k...  \n",
      "1748  sim_data__stimMag_1.00_beta_0.40_noise_0.050_k...  \n",
      "1749  sim_data__stimMag_1.00_beta_0.40_noise_0.050_k...  \n",
      "\n",
      "[1750 rows x 5 columns]\n"
     ]
    }
   ],
   "source": [
    "from extract_data import build_cellwise_df\n",
    "\n",
    "data_path = 'C:/Users/vpming/tuni_ml/data'\n",
    "df = build_cellwise_df(data_path)\n",
    "print(df)"
   ]
  }
 ],
 "metadata": {
  "kernelspec": {
   "display_name": ".venv",
   "language": "python",
   "name": "python3"
  },
  "language_info": {
   "codemirror_mode": {
    "name": "ipython",
    "version": 3
   },
   "file_extension": ".py",
   "mimetype": "text/x-python",
   "name": "python",
   "nbconvert_exporter": "python",
   "pygments_lexer": "ipython3",
   "version": "3.11.9"
  }
 },
 "nbformat": 4,
 "nbformat_minor": 5
}
